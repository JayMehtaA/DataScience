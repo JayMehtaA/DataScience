{
  "cells": [
    {
      "cell_type": "code",
      "execution_count": 52,
      "metadata": {
        "_cell_guid": "b1076dfc-b9ad-4769-8c92-a6c4dae69d19",
        "_uuid": "8f2839f25d086af736a60e9eeb907d3b93b6e0e5",
        "id": "t15citTSJ4aZ"
      },
      "outputs": [],
      "source": [
        "import numpy as np # linear algebra\n",
        "import pandas as pd # data processing, CSV file I/O (e.g. pd.read_csv)\n",
        "import warnings\n",
        "warnings.filterwarnings(\"ignore\")\n",
        "import seaborn as sns\n",
        "from sklearn.linear_model import LinearRegression\n",
        "from sklearn.model_selection import train_test_split"
      ]
    },
    {
      "cell_type": "code",
      "execution_count": 53,
      "metadata": {
        "_cell_guid": "79c7e3d0-c299-4dcb-8224-4455121ee9b0",
        "_uuid": "d629ff2d2480ee46fbb7e2d37f6b5fab8052498a",
        "id": "4iNGbCooJ4aa"
      },
      "outputs": [],
      "source": [
        "train= pd.read_csv(\"./CreditScore_train.csv\")\n",
        "test= pd.read_csv(\"./CreditScore_test.csv\")"
      ]
    },
    {
      "cell_type": "code",
      "execution_count": 54,
      "metadata": {
        "colab": {
          "base_uri": "https://localhost:8080/"
        },
        "id": "edACvEgiJ4ac",
        "outputId": "90206ecb-0e9f-411c-c5b3-095f7f0c1d69"
      },
      "outputs": [
        {
          "output_type": "stream",
          "name": "stdout",
          "text": [
            "Train Data Shape aftr adding target col :  (80000, 306)\n",
            "Test Data Shape aftr adding target col :  (20000, 306)\n"
          ]
        }
      ],
      "source": [
        "train[\"source\"] = \"train\"\n",
        "test[\"source\"] = \"test\"\n",
        "print(\"Train Data Shape aftr adding target col : \",train.shape)\n",
        "print(\"Test Data Shape aftr adding target col : \",test.shape)"
      ]
    },
    {
      "cell_type": "code",
      "execution_count": 55,
      "metadata": {
        "id": "zAw3bF_HJ4ad"
      },
      "outputs": [],
      "source": [
        "df = pd.concat([train,test])"
      ]
    },
    {
      "cell_type": "code",
      "execution_count": 56,
      "metadata": {
        "colab": {
          "base_uri": "https://localhost:8080/"
        },
        "id": "tfkBwb0NJ4ag",
        "outputId": "7cc6ff2d-85af-423c-98d4-15bd2c95d1c9"
      },
      "outputs": [
        {
          "output_type": "execute_result",
          "data": {
            "text/plain": [
              "(100000, 306)"
            ]
          },
          "metadata": {},
          "execution_count": 56
        }
      ],
      "source": [
        "df.shape"
      ]
    },
    {
      "cell_type": "code",
      "execution_count": 57,
      "metadata": {
        "id": "FczEPYOFJ4ah"
      },
      "outputs": [],
      "source": [
        "lst=[]\n",
        "lst=df.columns"
      ]
    },
    {
      "cell_type": "code",
      "execution_count": 58,
      "metadata": {
        "id": "rC4n14FbJ4ai"
      },
      "outputs": [],
      "source": [
        "row=df.shape[0]\n",
        "cols=[]"
      ]
    },
    {
      "cell_type": "code",
      "execution_count": 59,
      "metadata": {
        "colab": {
          "base_uri": "https://localhost:8080/"
        },
        "id": "gL8YTAXNJ4aj",
        "outputId": "a9cbe9b9-9d08-4ee3-c9e4-44493480d4e2"
      },
      "outputs": [
        {
          "output_type": "execute_result",
          "data": {
            "text/plain": [
              "0"
            ]
          },
          "metadata": {},
          "execution_count": 59
        }
      ],
      "source": [
        "len(cols)"
      ]
    },
    {
      "cell_type": "code",
      "execution_count": 60,
      "metadata": {
        "colab": {
          "base_uri": "https://localhost:8080/"
        },
        "id": "tFD6rP8VJ4ak",
        "outputId": "0c77bee6-bcfe-4d8a-b990-b511d12b7ac1"
      },
      "outputs": [
        {
          "output_type": "execute_result",
          "data": {
            "text/plain": [
              "[None, None, None, None, None, None, None, None, None, None]"
            ]
          },
          "metadata": {},
          "execution_count": 60
        }
      ],
      "source": [
        "[cols.append(i) for i in lst if df[i].isnull().sum()/row*100 > 70 ]"
      ]
    },
    {
      "cell_type": "code",
      "execution_count": 61,
      "metadata": {
        "colab": {
          "base_uri": "https://localhost:8080/"
        },
        "id": "JVAl_xuWJ4al",
        "outputId": "fbfc1b98-f2ef-4290-d35b-d71654ff3287"
      },
      "outputs": [
        {
          "output_type": "execute_result",
          "data": {
            "text/plain": [
              "10"
            ]
          },
          "metadata": {},
          "execution_count": 61
        }
      ],
      "source": [
        "len(cols)"
      ]
    },
    {
      "cell_type": "code",
      "execution_count": 62,
      "metadata": {
        "colab": {
          "base_uri": "https://localhost:8080/"
        },
        "id": "jB51M4EyJ4am",
        "outputId": "aaf3f8b1-02f8-418d-e9aa-391ea3d9f871"
      },
      "outputs": [
        {
          "output_type": "execute_result",
          "data": {
            "text/plain": [
              "['x098',\n",
              " 'x155',\n",
              " 'x242',\n",
              " 'x255',\n",
              " 'x256',\n",
              " 'x257',\n",
              " 'x259',\n",
              " 'x295',\n",
              " 'x302',\n",
              " 'x304']"
            ]
          },
          "metadata": {},
          "execution_count": 62
        }
      ],
      "source": [
        "cols"
      ]
    },
    {
      "cell_type": "markdown",
      "metadata": {
        "id": "1-dxjDMJJ4an"
      },
      "source": [
        "Removing columns which has more than 70% of NA Values . 10 cols (x098,x155,x242,x255,x256,x257,x259,x295,x302,x304) are removed"
      ]
    },
    {
      "cell_type": "code",
      "execution_count": 63,
      "metadata": {
        "id": "iE0I8j34J4au"
      },
      "outputs": [],
      "source": [
        "data=df.drop(cols,axis=1)"
      ]
    },
    {
      "cell_type": "code",
      "execution_count": 64,
      "metadata": {
        "colab": {
          "base_uri": "https://localhost:8080/"
        },
        "id": "WoavHZ_oJ4av",
        "outputId": "5b945267-ce6a-4b27-efd8-2feeae08d73d"
      },
      "outputs": [
        {
          "output_type": "execute_result",
          "data": {
            "text/plain": [
              "(100000, 296)"
            ]
          },
          "metadata": {},
          "execution_count": 64
        }
      ],
      "source": [
        "data.shape"
      ]
    },
    {
      "cell_type": "code",
      "execution_count": 65,
      "metadata": {
        "id": "gAi42gxuJ4a0"
      },
      "outputs": [],
      "source": [
        "pd.options.display.max_rows = 4000\n",
        "\n",
        "colg=data.corr()['y'].sort_values() > 0.3\n",
        "coll=data.corr()['y'].sort_values() <-0.3"
      ]
    },
    {
      "cell_type": "code",
      "execution_count": 66,
      "metadata": {
        "colab": {
          "base_uri": "https://localhost:8080/"
        },
        "id": "CBNgcklDJ4a0",
        "outputId": "0a98c532-8472-498a-ffb5-bec3885b8187"
      },
      "outputs": [
        {
          "output_type": "execute_result",
          "data": {
            "text/plain": [
              "(100000, 296)"
            ]
          },
          "metadata": {},
          "execution_count": 66
        }
      ],
      "source": [
        "data.shape"
      ]
    },
    {
      "cell_type": "code",
      "execution_count": 67,
      "metadata": {
        "colab": {
          "base_uri": "https://localhost:8080/"
        },
        "id": "AQQbCdaMJ4a1",
        "outputId": "71489512-dff5-4b5e-9406-01ce3afc9a02"
      },
      "outputs": [
        {
          "output_type": "execute_result",
          "data": {
            "text/plain": [
              "0"
            ]
          },
          "metadata": {},
          "execution_count": 67
        }
      ],
      "source": [
        "lstg=[]\n",
        "lstl=[]\n",
        "lstg.clear()\n",
        "lstg.clear()\n",
        "len(lstg)\n",
        "len(lstl)\n",
        "        "
      ]
    },
    {
      "cell_type": "code",
      "execution_count": 68,
      "metadata": {
        "colab": {
          "base_uri": "https://localhost:8080/"
        },
        "id": "LtW5FxhcJ4a1",
        "outputId": "50d25e8a-64ff-419c-a9e9-ec719b29cc73"
      },
      "outputs": [
        {
          "output_type": "execute_result",
          "data": {
            "text/plain": [
              "[None,\n",
              " None,\n",
              " None,\n",
              " None,\n",
              " None,\n",
              " None,\n",
              " None,\n",
              " None,\n",
              " None,\n",
              " None,\n",
              " None,\n",
              " None,\n",
              " None,\n",
              " None,\n",
              " None,\n",
              " None,\n",
              " None,\n",
              " None,\n",
              " None,\n",
              " None,\n",
              " None,\n",
              " None]"
            ]
          },
          "metadata": {},
          "execution_count": 68
        }
      ],
      "source": [
        "[lstg.append(i) for i,j in colg.items() if j == True]\n",
        "[lstl.append(i) for i,j in coll.items() if j == True]\n"
      ]
    },
    {
      "cell_type": "code",
      "execution_count": 69,
      "metadata": {
        "colab": {
          "base_uri": "https://localhost:8080/"
        },
        "id": "jSvocVroJ4a2",
        "outputId": "ff4b031e-8843-4435-f372-3735171e22c4"
      },
      "outputs": [
        {
          "output_type": "stream",
          "name": "stdout",
          "text": [
            "Length of lstl 22\n",
            "Length of lstg 40\n"
          ]
        }
      ],
      "source": [
        "print(\"Length of lstl\",len(lstl))\n",
        "print(\"Length of lstg\",len(lstg))"
      ]
    },
    {
      "cell_type": "code",
      "execution_count": 70,
      "metadata": {
        "colab": {
          "base_uri": "https://localhost:8080/"
        },
        "id": "8fWLKKIKJ4a2",
        "outputId": "36e5d37f-986b-4095-a43b-c07ad5215d2e"
      },
      "outputs": [
        {
          "output_type": "stream",
          "name": "stdout",
          "text": [
            "Length of lstd 0\n"
          ]
        }
      ],
      "source": [
        "lstd=[]\n",
        "#lstd=lstg+lstl\n",
        "print(\"Length of lstd\",len(lstd))\n"
      ]
    },
    {
      "cell_type": "code",
      "execution_count": 71,
      "metadata": {
        "colab": {
          "base_uri": "https://localhost:8080/"
        },
        "id": "KOYSN7ATJ4a3",
        "outputId": "8dd1eac1-181b-44c6-edce-51494ae5002b"
      },
      "outputs": [
        {
          "output_type": "stream",
          "name": "stdout",
          "text": [
            "Length of lstd 62\n"
          ]
        }
      ],
      "source": [
        "lstd=lstg+lstl\n",
        "print(\"Length of lstd\",len(lstd))"
      ]
    },
    {
      "cell_type": "code",
      "execution_count": 72,
      "metadata": {
        "id": "2CqNTRcsJ4a3"
      },
      "outputs": [],
      "source": [
        "data_cols=data.columns"
      ]
    },
    {
      "cell_type": "code",
      "execution_count": 73,
      "metadata": {
        "colab": {
          "base_uri": "https://localhost:8080/"
        },
        "id": "oCobY3X4J4a4",
        "outputId": "a12b50fb-bb94-4223-b742-bacaed6808a9"
      },
      "outputs": [
        {
          "output_type": "execute_result",
          "data": {
            "text/plain": [
              "x001    0.164841\n",
              "x003    0.121207\n",
              "x006    0.092144\n",
              "x007    0.008623\n",
              "x008    0.021920\n",
              "x009    0.001522\n",
              "x010    0.043654\n",
              "x011    0.113111\n",
              "x012    0.117558\n",
              "x013    0.178163\n",
              "x016    0.194172\n",
              "x021    0.242804\n",
              "x024    0.059221\n",
              "x026    0.212508\n",
              "x029    0.217832\n",
              "x031    0.280099\n",
              "x032    0.077719\n",
              "x033    0.112868\n",
              "x034    0.191694\n",
              "x035    0.254842\n",
              "x037    0.091270\n",
              "x038    0.125037\n",
              "x039    0.216553\n",
              "x040    0.291714\n",
              "x042    0.293363\n",
              "x044    0.212458\n",
              "x045    0.145432\n",
              "x048    0.195027\n",
              "x049    0.137282\n",
              "x050    0.096114\n",
              "x051    0.059743\n",
              "x052    0.029612\n",
              "x053    0.012722\n",
              "x054    0.022510\n",
              "x055    0.091911\n",
              "x060    0.001973\n",
              "x061    0.177372\n",
              "x062    0.293974\n",
              "x066    0.212327\n",
              "x068    0.059887\n",
              "x069    0.106879\n",
              "x070    0.138074\n",
              "x071    0.183339\n",
              "x072    0.204699\n",
              "x073    0.284965\n",
              "x074    0.175537\n",
              "x075    0.260677\n",
              "x076    0.192416\n",
              "x077    0.047028\n",
              "x078    0.090930\n",
              "x079    0.113628\n",
              "x080    0.161110\n",
              "x081    0.178198\n",
              "x082    0.088651\n",
              "x083    0.039574\n",
              "x084    0.033738\n",
              "x085    0.041799\n",
              "x086    0.068299\n",
              "x087    0.078563\n",
              "x088    0.081274\n",
              "x089    0.229252\n",
              "x090    0.071259\n",
              "x091    0.105102\n",
              "x092    0.050871\n",
              "x093    0.026350\n",
              "x097    0.191670\n",
              "x100    0.203669\n",
              "x101    0.189044\n",
              "x102    0.128978\n",
              "x103    0.184405\n",
              "x104    0.263943\n",
              "x105    0.218818\n",
              "x106    0.257499\n",
              "x107    0.087620\n",
              "x108    0.176340\n",
              "x109    0.115120\n",
              "x110    0.190352\n",
              "x111    0.212927\n",
              "x112    0.262335\n",
              "x113    0.245161\n",
              "x114    0.212541\n",
              "x115    0.190357\n",
              "x116    0.174744\n",
              "x117    0.256652\n",
              "x118    0.249917\n",
              "x119    0.237546\n",
              "x120    0.224038\n",
              "x121    0.213654\n",
              "x122    0.218341\n",
              "x123    0.211640\n",
              "x124    0.191682\n",
              "x125    0.176770\n",
              "x126    0.165164\n",
              "x127    0.197535\n",
              "x128    0.196012\n",
              "x129    0.193566\n",
              "x130    0.186602\n",
              "x131    0.181232\n",
              "x132    0.161091\n",
              "x133    0.179590\n",
              "x134    0.177944\n",
              "x135    0.171089\n",
              "x136    0.167454\n",
              "x137    0.162993\n",
              "x138    0.167648\n",
              "x139    0.170393\n",
              "x140    0.167724\n",
              "x141    0.165153\n",
              "x142    0.134277\n",
              "x143    0.146004\n",
              "x144    0.152658\n",
              "x145    0.152649\n",
              "x146    0.151325\n",
              "x147    0.261755\n",
              "x149    0.208060\n",
              "x150    0.199072\n",
              "x151    0.177974\n",
              "x152    0.163995\n",
              "x153    0.153079\n",
              "x154    0.080425\n",
              "x156    0.077350\n",
              "x157    0.076292\n",
              "x158    0.073103\n",
              "x159    0.067958\n",
              "x160    0.063697\n",
              "x161    0.178630\n",
              "x163    0.165773\n",
              "x164    0.156295\n",
              "x165    0.142245\n",
              "x166    0.132312\n",
              "x167    0.125883\n",
              "x169    0.220478\n",
              "x170    0.246552\n",
              "x171    0.283763\n",
              "x174    0.244202\n",
              "x175    0.157301\n",
              "x176    0.181861\n",
              "x177    0.206810\n",
              "x178    0.219750\n",
              "x179    0.235757\n",
              "x180    0.117430\n",
              "x181    0.258218\n",
              "x182    0.041873\n",
              "x183    0.156219\n",
              "x184    0.134723\n",
              "x185    0.230478\n",
              "x186    0.235807\n",
              "x187    0.264343\n",
              "x188    0.254895\n",
              "x189    0.222461\n",
              "x190    0.195120\n",
              "x191    0.174162\n",
              "x192    0.279946\n",
              "x193    0.270021\n",
              "x194    0.259715\n",
              "x195    0.250644\n",
              "x196    0.243355\n",
              "x197    0.228901\n",
              "x198    0.229719\n",
              "x199    0.215049\n",
              "x200    0.201507\n",
              "x201    0.192210\n",
              "x202    0.230261\n",
              "x203    0.219887\n",
              "x204    0.219168\n",
              "x205    0.217830\n",
              "x206    0.216104\n",
              "x207    0.192987\n",
              "x208    0.208319\n",
              "x209    0.210792\n",
              "x210    0.206037\n",
              "x211    0.204652\n",
              "x212    0.188958\n",
              "x213    0.186160\n",
              "x214    0.193622\n",
              "x215    0.198030\n",
              "x216    0.199304\n",
              "x217    0.150661\n",
              "x218    0.157569\n",
              "x219    0.173363\n",
              "x220    0.181758\n",
              "x221    0.184920\n",
              "x222    0.051789\n",
              "x223    0.051107\n",
              "x230    0.058980\n",
              "x231    0.020452\n",
              "x232    0.000826\n",
              "x233    0.125133\n",
              "x234    0.118240\n",
              "x238    0.282654\n",
              "x240    0.264705\n",
              "x241    0.232338\n",
              "x243    0.127608\n",
              "x252    0.078679\n",
              "x254    0.009714\n",
              "x258    0.242880\n",
              "x263    0.135366\n",
              "x264    0.115238\n",
              "x265    0.074562\n",
              "x266    0.035744\n",
              "x267    0.060068\n",
              "x268    0.282970\n",
              "x269    0.062478\n",
              "x270    0.066774\n",
              "x271    0.080832\n",
              "x272    0.066761\n",
              "x273    0.232696\n",
              "x274    0.133154\n",
              "x275    0.020511\n",
              "x279    0.241646\n",
              "x280    0.066670\n",
              "x281    0.271768\n",
              "x282    0.297334\n",
              "x283    0.287514\n",
              "x284    0.272775\n",
              "x285    0.060160\n",
              "x286    0.202476\n",
              "x288    0.018680\n",
              "x289    0.006531\n",
              "x290    0.009339\n",
              "x291    0.042159\n",
              "x292    0.234469\n",
              "x294    0.112354\n",
              "x296    0.110278\n",
              "x298    0.044329\n",
              "x299    0.044871\n",
              "x300    0.040356\n",
              "x301    0.224484\n",
              "x303    0.035370\n",
              "Name: y, dtype: float64"
            ]
          },
          "metadata": {},
          "execution_count": 73
        }
      ],
      "source": [
        "cor_target = abs(data.corr()[\"y\"])\n",
        "#Selecting highly correlated features\n",
        "relevant_features = cor_target[cor_target<0.3]\n",
        "relevant_features"
      ]
    },
    {
      "cell_type": "code",
      "execution_count": 74,
      "metadata": {
        "id": "EdXfq4N6J4a4"
      },
      "outputs": [],
      "source": [
        " lst_key=[]"
      ]
    },
    {
      "cell_type": "code",
      "execution_count": 75,
      "metadata": {
        "id": "XQwv-jQ7J4a4"
      },
      "outputs": [],
      "source": [
        "for i,j in relevant_features.items():\n",
        "    lst_key.append(i)\n",
        "#print(lst_key.count())\n"
      ]
    },
    {
      "cell_type": "code",
      "execution_count": 76,
      "metadata": {
        "colab": {
          "base_uri": "https://localhost:8080/"
        },
        "id": "xLw638FEJ4a5",
        "outputId": "c775487d-387a-4bf0-8a68-b167b447932c"
      },
      "outputs": [
        {
          "output_type": "execute_result",
          "data": {
            "text/plain": [
              "229"
            ]
          },
          "metadata": {},
          "execution_count": 76
        }
      ],
      "source": [
        "len(lst_key)"
      ]
    },
    {
      "cell_type": "code",
      "execution_count": 77,
      "metadata": {
        "id": "tSwcIuk0J4a5"
      },
      "outputs": [],
      "source": [
        "#lstd"
      ]
    },
    {
      "cell_type": "code",
      "execution_count": 78,
      "metadata": {
        "id": "4ZZflz3VJ4a5"
      },
      "outputs": [],
      "source": [
        "#lstd.remove('y')\n",
        "m_cols=[]"
      ]
    },
    {
      "cell_type": "code",
      "execution_count": 79,
      "metadata": {
        "_kg_hide-output": true,
        "id": "yHEkI2VZJ4a5"
      },
      "outputs": [],
      "source": [
        "lstd1= ['x017','x047','x015','x043','x251','x248','x018','x019','x028','x020','x004','x027','x030','x224','x260','x261','x229','x262','x247','x250','x246','x245','x014','x023','x002','x239','x025','x225','x237','x244','x046','x228','x226','x249','x227','x022','x236','x005','x235','x041','x057','x058','x287','x148','x253','x059','x065','x064','x162','x297','x293','x063','x168','x173','x056','x278','x036','x172','x277','x276','x099']"
      ]
    },
    {
      "cell_type": "code",
      "execution_count": 80,
      "metadata": {
        "colab": {
          "base_uri": "https://localhost:8080/"
        },
        "id": "QpMPjc06J4a6",
        "outputId": "a8e1a362-4fe4-4cb7-f281-e565f3bcd4ea"
      },
      "outputs": [
        {
          "output_type": "execute_result",
          "data": {
            "text/plain": [
              "61"
            ]
          },
          "metadata": {},
          "execution_count": 80
        }
      ],
      "source": [
        "len(lstd1)"
      ]
    },
    {
      "cell_type": "code",
      "execution_count": 81,
      "metadata": {
        "id": "GdQ3ZVfRJ4a6"
      },
      "outputs": [],
      "source": [
        "drop_cols=['x062','x066','x067','x068','x069','x070','x071','x072','x073','x074','x075','x076','x077','x078','x079','x080','x081','x082','x083','x084','x085','x086','x087','x088','x089','x090','x091','x092','x093','x094','x095','x096','x097','x100','x101','x102','x103','x104','x105','x106','x107','x108','x109','x110','x111','x112','x113','x114','x115','x116','x117','x118','x119','x120','x121','x122','x123','x124','x125','x126','x127','x128','x129','x130','x131','x132','x133','x134','x135','x136','x137','x138','x139','x140','x141','x142','x143','x144','x145','x146','x147','x149','x150','x151','x152','x153','x154','x156','x157','x158','x159','x160','x161','x163','x164','x165','x166','x167','x169','x170','x171','x174','x175','x176','x177','x178','x179','x180','x181','x182','x183','x184','x185','x186','x187','x188','x189','x190','x191','x192','x193','x194','x195','x196','x197','x198','x199','x200','x201','x202','x203','x204','x205','x206','x207','x208','x209','x210','x211','x212','x213','x214','x215','x216','x217','x218','x219','x220','x221','x222','x223','x230','x231','x232','x233','x234','x238','x240','x241','x243','x252','x254','x258','x263','x264','x265','x266','x267','x268','x269','x270','x271','x272','x273','x274','x275','x279','x280','x281','x282','x283','x284','x285','x286','x288','x289','x290','x291','x292','x294','x296','x298','x299','x300','x301','x303','x001','x003','x006','x007','x008','x009','x010','x011','x012','x013','x016','x021','x024','x026','x029','x031','x032','x033','x034','x035','x037','x038','x039','x040','x042','x044','x045','x048','x049','x050','x051','x052','x053','x054','x055','x060','x061']"
      ]
    },
    {
      "cell_type": "code",
      "execution_count": 82,
      "metadata": {
        "colab": {
          "base_uri": "https://localhost:8080/"
        },
        "id": "bM4tBtcrJ4a6",
        "outputId": "c950c5d0-168c-4533-e96b-b0184ff903ee"
      },
      "outputs": [
        {
          "output_type": "execute_result",
          "data": {
            "text/plain": [
              "233"
            ]
          },
          "metadata": {},
          "execution_count": 82
        }
      ],
      "source": [
        "len(drop_cols)"
      ]
    },
    {
      "cell_type": "code",
      "execution_count": 83,
      "metadata": {
        "colab": {
          "base_uri": "https://localhost:8080/"
        },
        "id": "QdnSy1dTJ4a7",
        "outputId": "b5c6c34d-4c0f-4e6c-9569-f63203fa24c5"
      },
      "outputs": [
        {
          "output_type": "execute_result",
          "data": {
            "text/plain": [
              "(100000, 296)"
            ]
          },
          "metadata": {},
          "execution_count": 83
        }
      ],
      "source": [
        "data.shape"
      ]
    },
    {
      "cell_type": "code",
      "execution_count": 84,
      "metadata": {
        "id": "wbQhHgOCJ4a7"
      },
      "outputs": [],
      "source": [
        "prep_data=data.copy()"
      ]
    },
    {
      "cell_type": "code",
      "execution_count": 85,
      "metadata": {
        "id": "HTwKzJC1J4a7"
      },
      "outputs": [],
      "source": [
        "prep_data.drop(columns=drop_cols,axis=1,inplace=True)"
      ]
    },
    {
      "cell_type": "code",
      "execution_count": 86,
      "metadata": {
        "colab": {
          "base_uri": "https://localhost:8080/"
        },
        "id": "MJl8tulZJ4a7",
        "outputId": "324af32d-cd63-46bb-bb7c-e5145488aba4"
      },
      "outputs": [
        {
          "output_type": "execute_result",
          "data": {
            "text/plain": [
              "(100000, 63)"
            ]
          },
          "metadata": {},
          "execution_count": 86
        }
      ],
      "source": [
        "prep_data.shape"
      ]
    },
    {
      "cell_type": "code",
      "execution_count": 87,
      "metadata": {
        "colab": {
          "base_uri": "https://localhost:8080/",
          "height": 279
        },
        "id": "d5PrfSwIJ4a8",
        "outputId": "4e015df0-918b-47b3-9480-983e6429560e"
      },
      "outputs": [
        {
          "output_type": "display_data",
          "data": {
            "image/png": "[encoded data removed]",
            "text/plain": [
              "<Figure size 432x288 with 1 Axes>"
            ]
          },
          "metadata": {
            "needs_background": "light"
          }
        }
      ],
      "source": [
        "cols = ['x002', 'x004', 'x005', 'x014', 'x015']\n",
        "for a in cols:\n",
        "  sns.barplot(data=prep_data, x=a, y='y')"
      ]
    },
    {
      "cell_type": "code",
      "execution_count": 88,
      "metadata": {
        "id": "X3QXiL8cJ4a8"
      },
      "outputs": [],
      "source": [
        "coL=list(prep_data.columns)"
      ]
    },
    {
      "cell_type": "code",
      "execution_count": 89,
      "metadata": {
        "colab": {
          "base_uri": "https://localhost:8080/"
        },
        "id": "uWGxHf1VJ4a8",
        "outputId": "3f92c3cf-62ca-445f-9821-dd70b9496111"
      },
      "outputs": [
        {
          "output_type": "execute_result",
          "data": {
            "text/plain": [
              "list"
            ]
          },
          "metadata": {},
          "execution_count": 89
        }
      ],
      "source": [
        "type(coL)"
      ]
    },
    {
      "cell_type": "code",
      "execution_count": 90,
      "metadata": {
        "id": "xAlhpSnWJ4a8"
      },
      "outputs": [],
      "source": [
        "%matplotlib inline\n",
        "train_test_b4_split_data=prep_data.copy\n"
      ]
    },
    {
      "cell_type": "code",
      "execution_count": 100,
      "metadata": {
        "id": "xYm6nT3TJ4a9"
      },
      "outputs": [],
      "source": [
        "train_final = prep_data[prep_data.source==\"train\"]\n",
        "test_final = prep_data[prep_data.source==\"test\"]"
      ]
    },
    {
      "cell_type": "code",
      "execution_count": 101,
      "metadata": {
        "colab": {
          "base_uri": "https://localhost:8080/"
        },
        "id": "9xM4YZh9J4a9",
        "outputId": "74ac7f6a-8d0e-480c-9e60-e7cc2a66a34b"
      },
      "outputs": [
        {
          "output_type": "execute_result",
          "data": {
            "text/plain": [
              "(10310, 62)"
            ]
          },
          "metadata": {},
          "execution_count": 101
        }
      ],
      "source": [
        "train_final = train_final.drop(columns='source',axis=1)\n",
        "test_final = test_final.drop(columns='source',axis=1)\n",
        "def clean_dataset(df):\n",
        "    assert isinstance(df, pd.DataFrame), \"df needs to be a pd.DataFrame\"\n",
        "    df.dropna(inplace=True)\n",
        "    indices_to_keep = ~df.isin([np.nan, np.inf, -np.inf]).any(1)\n",
        "    return df[indices_to_keep].astype(np.float64)\n",
        "train_final = clean_dataset(train_final)\n",
        "train_final.shape\n"
      ]
    },
    {
      "cell_type": "code",
      "execution_count": 102,
      "metadata": {
        "colab": {
          "base_uri": "https://localhost:8080/"
        },
        "id": "fXYcvw7EJ4a-",
        "outputId": "a34d1350-a259-4e6e-fc61-dcd6e63e50dd"
      },
      "outputs": [
        {
          "output_type": "execute_result",
          "data": {
            "text/plain": [
              "Index(['x002', 'x004', 'x005', 'x014', 'x015', 'x017', 'x018', 'x019', 'x020',\n",
              "       'x022', 'x023', 'x025', 'x027', 'x028', 'x030', 'x036', 'x041', 'x043',\n",
              "       'x046', 'x047', 'x056', 'x057', 'x058', 'x059', 'x063', 'x064', 'x065',\n",
              "       'x099', 'x148', 'x162', 'x168', 'x172', 'x173', 'x224', 'x225', 'x226',\n",
              "       'x227', 'x228', 'x229', 'x235', 'x236', 'x237', 'x239', 'x244', 'x245',\n",
              "       'x246', 'x247', 'x248', 'x249', 'x250', 'x251', 'x253', 'x260', 'x261',\n",
              "       'x262', 'x276', 'x277', 'x278', 'x287', 'x293', 'x297', 'y'],\n",
              "      dtype='object')"
            ]
          },
          "metadata": {},
          "execution_count": 102
        }
      ],
      "source": [
        "train_final.columns"
      ]
    },
    {
      "cell_type": "code",
      "execution_count": 103,
      "metadata": {
        "colab": {
          "base_uri": "https://localhost:8080/"
        },
        "id": "Pbaw_4PYJ4a_",
        "outputId": "2a60ab2e-8313-4331-f9ef-520bfd78b771"
      },
      "outputs": [
        {
          "output_type": "stream",
          "name": "stdout",
          "text": [
            "(10310, 61)\n",
            "(10310,)\n"
          ]
        }
      ],
      "source": [
        "X = train_final.drop(\"y\", axis=1)\n",
        "Y = train_final[\"y\"]\n",
        "print(X.shape)\n",
        "print(Y.shape)"
      ]
    },
    {
      "cell_type": "code",
      "execution_count": 104,
      "metadata": {
        "colab": {
          "base_uri": "https://localhost:8080/"
        },
        "id": "CLUR8U0wJ4a_",
        "outputId": "812f64ab-ff28-4fdf-c6c9-bc517475daa6"
      },
      "outputs": [
        {
          "output_type": "stream",
          "name": "stdout",
          "text": [
            "(8248, 61)\n",
            "(2062, 61)\n",
            "(8248,)\n",
            "(2062,)\n"
          ]
        }
      ],
      "source": [
        "seed      = 42\n",
        "test_size = 0.20\n",
        "X_train, X_test, Y_train, Y_test = train_test_split(X, Y, test_size = test_size)\n",
        "print(X_train.shape)\n",
        "print(X_test.shape)\n",
        "print(Y_train.shape)\n",
        "print(Y_test.shape)"
      ]
    },
    {
      "cell_type": "code",
      "source": [
        "regr = LinearRegression()\n",
        "regr.fit(X_train,Y_train)\n",
        "print(regr.score(X_test,Y_test))"
      ],
      "metadata": {
        "colab": {
          "base_uri": "https://localhost:8080/"
        },
        "id": "6PP83S9BKM-E",
        "outputId": "6a4590d4-4f5c-4aa5-c2f0-52ea3fbab5bf"
      },
      "execution_count": 105,
      "outputs": [
        {
          "output_type": "stream",
          "name": "stdout",
          "text": [
            "0.7782320988706866\n"
          ]
        }
      ]
    }
  ],
  "metadata": {
    "kernelspec": {
      "display_name": "Python 3",
      "language": "python",
      "name": "python3"
    },
    "language_info": {
      "codemirror_mode": {
        "name": "ipython",
        "version": 3
      },
      "file_extension": ".py",
      "mimetype": "text/x-python",
      "name": "python",
      "nbconvert_exporter": "python",
      "pygments_lexer": "ipython3",
      "version": "3.6.6"
    },
    "colab": {
      "name": "DS_Exp1B.ipynb",
      "provenance": []
    }
  },
  "nbformat": 4,
  "nbformat_minor": 0
}