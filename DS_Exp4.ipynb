{
  "cells": [
    {
      "cell_type": "markdown",
      "metadata": {},
      "source": [
        "### Exp 4\n",
        "### Jay Mehta\n",
        "### 2018130024"
      ]
    },
    {
      "cell_type": "markdown",
      "metadata": {},
      "source": [
        "#### Perform statistical data analysis such as: Estimators of the main statistical measures (mean, variance, standard deviation, covariance correlation, standard error), Main distributions ( Normal distribution, chi-square distribution), Hypothesis testing, pair-wise association (Pearson correlation test, t-test, ANOVA), Non-parametric test (Spearman rank0 etc)"
      ]
    },
    {
      "cell_type": "markdown",
      "metadata": {},
      "source": [
        "## Analyze statistical data using Python/R programming"
      ]
    },
    {
      "cell_type": "markdown",
      "metadata": {},
      "source": [
        "#### Importing the necessary libraries"
      ]
    },
    {
      "cell_type": "code",
      "execution_count": 44,
      "metadata": {
        "colab": {
          "base_uri": "https://localhost:8080/"
        },
        "id": "biOhU3DvM4Hz",
        "outputId": "2be279a4-894e-4eab-e6d7-1c934b702134"
      },
      "outputs": [],
      "source": [
        "import pandas as pd\n",
        "import numpy as np\n",
        "import plotly.figure_factory as ff"
      ]
    },
    {
      "cell_type": "code",
      "execution_count": 45,
      "metadata": {
        "colab": {
          "base_uri": "https://localhost:8080/",
          "height": 206
        },
        "id": "kqAI3q1kOTsF",
        "outputId": "587eac3c-82fb-458d-c651-282f46e17d15"
      },
      "outputs": [
        {
          "data": {
            "text/html": [
              "<div>\n",
              "<style scoped>\n",
              "    .dataframe tbody tr th:only-of-type {\n",
              "        vertical-align: middle;\n",
              "    }\n",
              "\n",
              "    .dataframe tbody tr th {\n",
              "        vertical-align: top;\n",
              "    }\n",
              "\n",
              "    .dataframe thead th {\n",
              "        text-align: right;\n",
              "    }\n",
              "</style>\n",
              "<table border=\"1\" class=\"dataframe\">\n",
              "  <thead>\n",
              "    <tr style=\"text-align: right;\">\n",
              "      <th></th>\n",
              "      <th>Year</th>\n",
              "      <th>Mean</th>\n",
              "      <th>Number of Trend Sites</th>\n",
              "      <th>10th Percentile</th>\n",
              "      <th>90th Percentile</th>\n",
              "    </tr>\n",
              "  </thead>\n",
              "  <tbody>\n",
              "    <tr>\n",
              "      <th>0</th>\n",
              "      <td>1980</td>\n",
              "      <td>0.101250</td>\n",
              "      <td>188</td>\n",
              "      <td>0.070</td>\n",
              "      <td>0.131</td>\n",
              "    </tr>\n",
              "    <tr>\n",
              "      <th>1</th>\n",
              "      <td>1981</td>\n",
              "      <td>0.096027</td>\n",
              "      <td>188</td>\n",
              "      <td>0.071</td>\n",
              "      <td>0.117</td>\n",
              "    </tr>\n",
              "    <tr>\n",
              "      <th>2</th>\n",
              "      <td>1982</td>\n",
              "      <td>0.094481</td>\n",
              "      <td>188</td>\n",
              "      <td>0.069</td>\n",
              "      <td>0.122</td>\n",
              "    </tr>\n",
              "    <tr>\n",
              "      <th>3</th>\n",
              "      <td>1983</td>\n",
              "      <td>0.102059</td>\n",
              "      <td>188</td>\n",
              "      <td>0.072</td>\n",
              "      <td>0.136</td>\n",
              "    </tr>\n",
              "    <tr>\n",
              "      <th>4</th>\n",
              "      <td>1984</td>\n",
              "      <td>0.094330</td>\n",
              "      <td>188</td>\n",
              "      <td>0.071</td>\n",
              "      <td>0.123</td>\n",
              "    </tr>\n",
              "  </tbody>\n",
              "</table>\n",
              "</div>"
            ],
            "text/plain": [
              "   Year      Mean  Number of Trend Sites  10th Percentile  90th Percentile\n",
              "0  1980  0.101250                    188            0.070            0.131\n",
              "1  1981  0.096027                    188            0.071            0.117\n",
              "2  1982  0.094481                    188            0.069            0.122\n",
              "3  1983  0.102059                    188            0.072            0.136\n",
              "4  1984  0.094330                    188            0.071            0.123"
            ]
          },
          "execution_count": 45,
          "metadata": {},
          "output_type": "execute_result"
        }
      ],
      "source": [
        "df = pd.read_csv('https://docs.google.com/spreadsheets/d/19F9RKL3wZkdNDS6g0iZ21PIX504AdwMcgJugvoJNEO8/export?format=csv&gid=644826532')\n",
        "df.head()"
      ]
    },
    {
      "cell_type": "code",
      "execution_count": 46,
      "metadata": {
        "colab": {
          "base_uri": "https://localhost:8080/"
        },
        "id": "zKEo8qmgPdz0",
        "outputId": "49cc53f4-f923-4f50-c58b-783ebe735d1c"
      },
      "outputs": [
        {
          "name": "stdout",
          "output_type": "stream",
          "text": [
            "Shape of data:  (41, 5)\n",
            "<class 'pandas.core.frame.DataFrame'>\n",
            "RangeIndex: 41 entries, 0 to 40\n",
            "Data columns (total 5 columns):\n",
            " #   Column                 Non-Null Count  Dtype  \n",
            "---  ------                 --------------  -----  \n",
            " 0   Year                   41 non-null     int64  \n",
            " 1   Mean                   41 non-null     float64\n",
            " 2   Number of Trend Sites  41 non-null     int64  \n",
            " 3   10th Percentile        41 non-null     float64\n",
            " 4   90th Percentile        41 non-null     float64\n",
            "dtypes: float64(3), int64(2)\n",
            "memory usage: 1.7 KB\n"
          ]
        }
      ],
      "source": [
        "print(\"Shape of data: \",df.shape)\n",
        "df.info()"
      ]
    },
    {
      "cell_type": "code",
      "execution_count": 47,
      "metadata": {
        "colab": {
          "base_uri": "https://localhost:8080/"
        },
        "id": "QMsEisWAPLk4",
        "outputId": "e1f8cc0b-9c6d-4f44-99f5-13089f1d5884"
      },
      "outputs": [
        {
          "data": {
            "text/plain": [
              "Index(['Year', 'Mean', 'Number of Trend Sites', '10th Percentile',\n",
              "       '90th Percentile'],\n",
              "      dtype='object')"
            ]
          },
          "execution_count": 47,
          "metadata": {},
          "output_type": "execute_result"
        }
      ],
      "source": [
        "df.columns"
      ]
    },
    {
      "cell_type": "code",
      "execution_count": 48,
      "metadata": {
        "colab": {
          "base_uri": "https://localhost:8080/",
          "height": 300
        },
        "id": "4uz_th4JPSn3",
        "outputId": "5af33d2c-5977-4825-8bbd-b966190f65e0"
      },
      "outputs": [
        {
          "name": "stdout",
          "output_type": "stream",
          "text": [
            "Range for Year variable: 40.0\n",
            "Range for Mean variable: 0.038907801379999996\n",
            "Range for Number of Trend Sites variable: 0.0\n",
            "Range for 10th Percentile variable: 0.020999999999999998\n",
            "Range for 10th Percentile variable: 0.06000000000000001\n"
          ]
        },
        {
          "data": {
            "text/html": [
              "<div>\n",
              "<style scoped>\n",
              "    .dataframe tbody tr th:only-of-type {\n",
              "        vertical-align: middle;\n",
              "    }\n",
              "\n",
              "    .dataframe tbody tr th {\n",
              "        vertical-align: top;\n",
              "    }\n",
              "\n",
              "    .dataframe thead th {\n",
              "        text-align: right;\n",
              "    }\n",
              "</style>\n",
              "<table border=\"1\" class=\"dataframe\">\n",
              "  <thead>\n",
              "    <tr style=\"text-align: right;\">\n",
              "      <th></th>\n",
              "      <th>count</th>\n",
              "      <th>mean</th>\n",
              "      <th>std</th>\n",
              "      <th>min</th>\n",
              "      <th>25%</th>\n",
              "      <th>50%</th>\n",
              "      <th>75%</th>\n",
              "      <th>max</th>\n",
              "    </tr>\n",
              "  </thead>\n",
              "  <tbody>\n",
              "    <tr>\n",
              "      <th>Year</th>\n",
              "      <td>41.0</td>\n",
              "      <td>2000.000000</td>\n",
              "      <td>11.979149</td>\n",
              "      <td>1980.000000</td>\n",
              "      <td>1990.000000</td>\n",
              "      <td>2000.000000</td>\n",
              "      <td>2010.000000</td>\n",
              "      <td>2020.000000</td>\n",
              "    </tr>\n",
              "    <tr>\n",
              "      <th>Mean</th>\n",
              "      <td>41.0</td>\n",
              "      <td>0.083428</td>\n",
              "      <td>0.010745</td>\n",
              "      <td>0.066415</td>\n",
              "      <td>0.074734</td>\n",
              "      <td>0.084689</td>\n",
              "      <td>0.091191</td>\n",
              "      <td>0.105323</td>\n",
              "    </tr>\n",
              "    <tr>\n",
              "      <th>Number of Trend Sites</th>\n",
              "      <td>41.0</td>\n",
              "      <td>188.000000</td>\n",
              "      <td>0.000000</td>\n",
              "      <td>188.000000</td>\n",
              "      <td>188.000000</td>\n",
              "      <td>188.000000</td>\n",
              "      <td>188.000000</td>\n",
              "      <td>188.000000</td>\n",
              "    </tr>\n",
              "    <tr>\n",
              "      <th>10th Percentile</th>\n",
              "      <td>41.0</td>\n",
              "      <td>0.067098</td>\n",
              "      <td>0.005093</td>\n",
              "      <td>0.055000</td>\n",
              "      <td>0.063000</td>\n",
              "      <td>0.068000</td>\n",
              "      <td>0.071000</td>\n",
              "      <td>0.076000</td>\n",
              "    </tr>\n",
              "    <tr>\n",
              "      <th>90th Percentile</th>\n",
              "      <td>41.0</td>\n",
              "      <td>0.100488</td>\n",
              "      <td>0.016709</td>\n",
              "      <td>0.076000</td>\n",
              "      <td>0.086000</td>\n",
              "      <td>0.099000</td>\n",
              "      <td>0.113000</td>\n",
              "      <td>0.136000</td>\n",
              "    </tr>\n",
              "  </tbody>\n",
              "</table>\n",
              "</div>"
            ],
            "text/plain": [
              "                       count         mean        std          min  \\\n",
              "Year                    41.0  2000.000000  11.979149  1980.000000   \n",
              "Mean                    41.0     0.083428   0.010745     0.066415   \n",
              "Number of Trend Sites   41.0   188.000000   0.000000   188.000000   \n",
              "10th Percentile         41.0     0.067098   0.005093     0.055000   \n",
              "90th Percentile         41.0     0.100488   0.016709     0.076000   \n",
              "\n",
              "                               25%          50%          75%          max  \n",
              "Year                   1990.000000  2000.000000  2010.000000  2020.000000  \n",
              "Mean                      0.074734     0.084689     0.091191     0.105323  \n",
              "Number of Trend Sites   188.000000   188.000000   188.000000   188.000000  \n",
              "10th Percentile           0.063000     0.068000     0.071000     0.076000  \n",
              "90th Percentile           0.086000     0.099000     0.113000     0.136000  "
            ]
          },
          "execution_count": 48,
          "metadata": {},
          "output_type": "execute_result"
        }
      ],
      "source": [
        "df_descrb = df.describe().T\n",
        "print('Range for Year variable:',df_descrb.loc['Year']['max']-df_descrb.loc['Year']['min'])\n",
        "print('Range for Mean variable:',df_descrb.loc['Mean']['max']-df_descrb.loc['Mean']['min'])\n",
        "print('Range for Number of Trend Sites variable:',df_descrb.loc['Number of Trend Sites']['max']-df_descrb.loc['Number of Trend Sites']['min'])\n",
        "print('Range for 10th Percentile variable:',df_descrb.loc['10th Percentile']['max']-df_descrb.loc['10th Percentile']['min'])\n",
        "print('Range for 10th Percentile variable:',df_descrb.loc['90th Percentile']['max']-df_descrb.loc['90th Percentile']['min'])\n",
        "df_descrb"
      ]
    },
    {
      "cell_type": "code",
      "execution_count": 49,
      "metadata": {
        "colab": {
          "base_uri": "https://localhost:8080/"
        },
        "id": "c-kJJ2yrRsQO",
        "outputId": "89d1d0bb-490c-42eb-a9da-b04ff797bc69"
      },
      "outputs": [
        {
          "name": "stdout",
          "output_type": "stream",
          "text": [
            "0.10048780487804879\n"
          ]
        }
      ],
      "source": [
        "from scipy.stats import ttest_1samp\n",
        "ozone_mean = np.mean(df['90th Percentile'])\n",
        "print(ozone_mean)"
      ]
    },
    {
      "cell_type": "code",
      "execution_count": 50,
      "metadata": {
        "colab": {
          "base_uri": "https://localhost:8080/"
        },
        "id": "ptZe0v-AXTvW",
        "outputId": "edebe471-b7b9-4e86-bd0b-d205c50b9d80"
      },
      "outputs": [
        {
          "name": "stdout",
          "output_type": "stream",
          "text": [
            "0.7408178671020265\n"
          ]
        }
      ],
      "source": [
        "sample = df['90th Percentile'].sample(n=20)\n",
        "tset, pval = ttest_1samp(sample, ozone_mean)\n",
        "print(pval)"
      ]
    },
    {
      "cell_type": "code",
      "execution_count": 51,
      "metadata": {
        "colab": {
          "base_uri": "https://localhost:8080/"
        },
        "id": "322vR-pGYYbr",
        "outputId": "d54bb3b0-5588-4b5e-8c33-b8d503cbfe8f"
      },
      "outputs": [
        {
          "name": "stdout",
          "output_type": "stream",
          "text": [
            "we are accepting null hypothesis\n"
          ]
        }
      ],
      "source": [
        "if pval < 0.05:    # alpha value is 0.05 or 5%\n",
        "   print(\" we are rejecting null hypothesis\")\n",
        "else:\n",
        "  print(\"we are accepting null hypothesis\")"
      ]
    },
    {
      "cell_type": "markdown",
      "metadata": {},
      "source": [
        "### Hypothesis Testing\n",
        "#### Prove (or disprove) with statistical evidence that the Ozone of high means is different from that of lows means.\n",
        "Let  μ1, μ2  and be the respective population means for Ozone of lows and Ozone of highs\n",
        "\n",
        "\n",
        "**Step 1: Define null and alternative hypothesis**\n",
        "\n",
        " **H0:** μ1−μ2=0 There is no difference between the Ozone of low and Ozone of high.\n",
        " \n",
        " **Ha:** μ1−μ2!=0  There is difference between the Ozone of low and Ozone of high.\n",
        "\n",
        "\n",
        "**Step 2: Decide the significance level**: α = 0.05\n",
        "\n",
        "\n",
        "**Step 3: Identify the test**: Independent T-test\n",
        "\n",
        "A t-test is used to compare the mean of two given samples. Like a z-test, a t-test also assumes a normal distribution of the sample. A t-test is used when the population parameters (mean and standard deviation) are not known.\n",
        "\n",
        "Independent T-Test: Independent samples t-test which compares mean for two groups.\n",
        "\n",
        "\n",
        "**Step 4: Calculate the test-statistics and p-value**\n",
        "    \n",
        "Here, the test-statistic is called t-statistic, the score for which is calculated as:\n",
        "    \n",
        "t = (x1 — x2) / (σ / √n1 + σ / √n2)\n",
        "\n",
        "where\n",
        "\n",
        "x1 = mean of sample 1\n",
        "\n",
        "x2 = mean of sample 2\n",
        "\n",
        "n1 = size of sample 1\n",
        "\n",
        "n2 = size of sample 2\n",
        "\n",
        "\n",
        "**Step 5: Decide to reject or accept null hypothesis**\n",
        "\n",
        "The observation is that p-value(0.09) is greater than the significance level alpha(0.05)."
      ]
    },
    {
      "cell_type": "code",
      "execution_count": 52,
      "metadata": {
        "colab": {
          "base_uri": "https://localhost:8080/",
          "height": 542
        },
        "id": "KMW_ZC4WbCsQ",
        "outputId": "2007accf-4c51-4856-e95a-bb4957b6192f"
      },
      "outputs": [
        {
          "data": {
            "application/vnd.plotly.v1+json": {
              "config": {
                "plotlyServerURL": "https://plot.ly"
              },
              "data": [
                {
                  "autobinx": false,
                  "histnorm": "probability density",
                  "legendgroup": "90th Percentile",
                  "marker": {
                    "color": "salmon"
                  },
                  "name": "90th Percentile",
                  "opacity": 0.7,
                  "type": "histogram",
                  "x": [
                    0.084,
                    0.112,
                    0.076,
                    0.12,
                    0.107,
                    0.123,
                    0.093,
                    0.086,
                    0.104,
                    0.099,
                    0.113,
                    0.093,
                    0.11,
                    0.08,
                    0.105,
                    0.11,
                    0.089,
                    0.103,
                    0.079,
                    0.103
                  ],
                  "xaxis": "x",
                  "xbins": {
                    "end": 0.123,
                    "size": 0.1,
                    "start": 0.076
                  },
                  "yaxis": "y"
                },
                {
                  "legendgroup": "90th Percentile",
                  "marker": {
                    "color": "salmon"
                  },
                  "mode": "lines",
                  "name": "90th Percentile",
                  "showlegend": false,
                  "type": "scatter",
                  "x": [
                    0.076,
                    0.076094,
                    0.07618799999999999,
                    0.076282,
                    0.076376,
                    0.07647,
                    0.076564,
                    0.076658,
                    0.076752,
                    0.076846,
                    0.07694,
                    0.07703399999999999,
                    0.077128,
                    0.077222,
                    0.077316,
                    0.07740999999999999,
                    0.077504,
                    0.077598,
                    0.077692,
                    0.077786,
                    0.07788,
                    0.077974,
                    0.078068,
                    0.078162,
                    0.07825599999999999,
                    0.07835,
                    0.078444,
                    0.078538,
                    0.078632,
                    0.078726,
                    0.07882,
                    0.078914,
                    0.079008,
                    0.07910199999999999,
                    0.079196,
                    0.07929,
                    0.079384,
                    0.079478,
                    0.079572,
                    0.079666,
                    0.07976,
                    0.079854,
                    0.07994799999999999,
                    0.080042,
                    0.080136,
                    0.08023,
                    0.08032399999999999,
                    0.080418,
                    0.080512,
                    0.080606,
                    0.0807,
                    0.080794,
                    0.080888,
                    0.080982,
                    0.081076,
                    0.08116999999999999,
                    0.081264,
                    0.081358,
                    0.081452,
                    0.081546,
                    0.08164,
                    0.081734,
                    0.081828,
                    0.081922,
                    0.08201599999999999,
                    0.08211,
                    0.082204,
                    0.082298,
                    0.08239199999999999,
                    0.082486,
                    0.08258,
                    0.082674,
                    0.082768,
                    0.08286199999999999,
                    0.082956,
                    0.08305,
                    0.083144,
                    0.08323799999999999,
                    0.083332,
                    0.083426,
                    0.08352,
                    0.083614,
                    0.083708,
                    0.083802,
                    0.083896,
                    0.08399,
                    0.08408399999999999,
                    0.084178,
                    0.084272,
                    0.084366,
                    0.08446,
                    0.084554,
                    0.084648,
                    0.084742,
                    0.084836,
                    0.08493,
                    0.085024,
                    0.085118,
                    0.085212,
                    0.08530599999999999,
                    0.0854,
                    0.085494,
                    0.085588,
                    0.085682,
                    0.08577599999999999,
                    0.08587,
                    0.085964,
                    0.086058,
                    0.08615199999999999,
                    0.086246,
                    0.08634,
                    0.086434,
                    0.086528,
                    0.086622,
                    0.086716,
                    0.08681,
                    0.086904,
                    0.08699799999999999,
                    0.087092,
                    0.087186,
                    0.08728,
                    0.087374,
                    0.087468,
                    0.087562,
                    0.087656,
                    0.08775,
                    0.08784399999999999,
                    0.087938,
                    0.088032,
                    0.088126,
                    0.08821999999999999,
                    0.088314,
                    0.088408,
                    0.088502,
                    0.088596,
                    0.08868999999999999,
                    0.088784,
                    0.088878,
                    0.088972,
                    0.089066,
                    0.08916,
                    0.089254,
                    0.089348,
                    0.089442,
                    0.089536,
                    0.08963,
                    0.089724,
                    0.089818,
                    0.08991199999999999,
                    0.090006,
                    0.0901,
                    0.090194,
                    0.090288,
                    0.09038199999999999,
                    0.090476,
                    0.09057,
                    0.090664,
                    0.090758,
                    0.090852,
                    0.090946,
                    0.09104,
                    0.09113399999999999,
                    0.091228,
                    0.091322,
                    0.091416,
                    0.09151,
                    0.09160399999999999,
                    0.091698,
                    0.091792,
                    0.091886,
                    0.09198,
                    0.092074,
                    0.092168,
                    0.092262,
                    0.092356,
                    0.09245,
                    0.092544,
                    0.092638,
                    0.092732,
                    0.09282599999999999,
                    0.09292,
                    0.093014,
                    0.093108,
                    0.09320200000000001,
                    0.09329599999999999,
                    0.09339,
                    0.093484,
                    0.093578,
                    0.093672,
                    0.093766,
                    0.09386,
                    0.093954,
                    0.09404799999999999,
                    0.094142,
                    0.094236,
                    0.09433,
                    0.094424,
                    0.09451799999999999,
                    0.094612,
                    0.094706,
                    0.0948,
                    0.09489399999999999,
                    0.09498799999999999,
                    0.095082,
                    0.095176,
                    0.09527,
                    0.095364,
                    0.095458,
                    0.095552,
                    0.095646,
                    0.09573999999999999,
                    0.095834,
                    0.095928,
                    0.096022,
                    0.096116,
                    0.09621,
                    0.096304,
                    0.096398,
                    0.096492,
                    0.096586,
                    0.09668,
                    0.096774,
                    0.096868,
                    0.09696199999999999,
                    0.097056,
                    0.09715,
                    0.097244,
                    0.097338,
                    0.09743199999999999,
                    0.097526,
                    0.09762,
                    0.097714,
                    0.097808,
                    0.097902,
                    0.097996,
                    0.09809,
                    0.098184,
                    0.098278,
                    0.098372,
                    0.098466,
                    0.09856,
                    0.09865399999999999,
                    0.098748,
                    0.098842,
                    0.098936,
                    0.09903,
                    0.09912399999999999,
                    0.099218,
                    0.099312,
                    0.099406,
                    0.0995,
                    0.099594,
                    0.099688,
                    0.099782,
                    0.09987599999999999,
                    0.09997,
                    0.100064,
                    0.100158,
                    0.100252,
                    0.10034599999999999,
                    0.10044,
                    0.100534,
                    0.100628,
                    0.100722,
                    0.10081599999999999,
                    0.10091,
                    0.101004,
                    0.101098,
                    0.101192,
                    0.101286,
                    0.10138,
                    0.101474,
                    0.10156799999999999,
                    0.101662,
                    0.101756,
                    0.10185,
                    0.10194399999999999,
                    0.10203799999999999,
                    0.102132,
                    0.102226,
                    0.10232,
                    0.102414,
                    0.102508,
                    0.102602,
                    0.102696,
                    0.10278999999999999,
                    0.102884,
                    0.102978,
                    0.103072,
                    0.103166,
                    0.10326,
                    0.103354,
                    0.103448,
                    0.103542,
                    0.103636,
                    0.10373,
                    0.103824,
                    0.103918,
                    0.104012,
                    0.104106,
                    0.1042,
                    0.104294,
                    0.104388,
                    0.10448199999999999,
                    0.104576,
                    0.10467,
                    0.104764,
                    0.104858,
                    0.104952,
                    0.105046,
                    0.10514,
                    0.105234,
                    0.105328,
                    0.105422,
                    0.105516,
                    0.10561,
                    0.10570399999999999,
                    0.105798,
                    0.105892,
                    0.105986,
                    0.10608,
                    0.10617399999999999,
                    0.106268,
                    0.106362,
                    0.106456,
                    0.10655,
                    0.10664399999999999,
                    0.106738,
                    0.106832,
                    0.106926,
                    0.10702,
                    0.107114,
                    0.107208,
                    0.107302,
                    0.10739599999999999,
                    0.10749,
                    0.107584,
                    0.107678,
                    0.107772,
                    0.10786599999999999,
                    0.10796,
                    0.108054,
                    0.108148,
                    0.108242,
                    0.10833599999999999,
                    0.10843,
                    0.10852400000000001,
                    0.10861799999999999,
                    0.108712,
                    0.10880599999999999,
                    0.1089,
                    0.10899400000000001,
                    0.10908799999999999,
                    0.109182,
                    0.109276,
                    0.10937,
                    0.109464,
                    0.10955799999999999,
                    0.109652,
                    0.10974600000000001,
                    0.10984,
                    0.109934,
                    0.11002799999999999,
                    0.110122,
                    0.11021600000000001,
                    0.11030999999999999,
                    0.110404,
                    0.110498,
                    0.110592,
                    0.110686,
                    0.11077999999999999,
                    0.110874,
                    0.11096800000000001,
                    0.111062,
                    0.111156,
                    0.11124999999999999,
                    0.111344,
                    0.11143800000000001,
                    0.11153199999999999,
                    0.111626,
                    0.11172,
                    0.111814,
                    0.11190800000000001,
                    0.11200199999999999,
                    0.112096,
                    0.11219,
                    0.112284,
                    0.112378,
                    0.112472,
                    0.112566,
                    0.11266,
                    0.112754,
                    0.112848,
                    0.112942,
                    0.113036,
                    0.11313000000000001,
                    0.11322399999999999,
                    0.113318,
                    0.113412,
                    0.113506,
                    0.1136,
                    0.113694,
                    0.113788,
                    0.113882,
                    0.113976,
                    0.11407,
                    0.114164,
                    0.114258,
                    0.114352,
                    0.11444599999999999,
                    0.11454,
                    0.114634,
                    0.114728,
                    0.11482200000000001,
                    0.11491599999999999,
                    0.11501,
                    0.115104,
                    0.115198,
                    0.115292,
                    0.115386,
                    0.11548,
                    0.115574,
                    0.11566799999999999,
                    0.115762,
                    0.115856,
                    0.11595,
                    0.116044,
                    0.11613799999999999,
                    0.116232,
                    0.116326,
                    0.11642,
                    0.116514,
                    0.11660799999999999,
                    0.116702,
                    0.116796,
                    0.11689,
                    0.116984,
                    0.117078,
                    0.117172,
                    0.117266,
                    0.11735999999999999,
                    0.117454,
                    0.117548,
                    0.117642,
                    0.117736,
                    0.11782999999999999,
                    0.117924,
                    0.118018,
                    0.118112,
                    0.118206,
                    0.11829999999999999,
                    0.118394,
                    0.118488,
                    0.11858199999999999,
                    0.118676,
                    0.11877,
                    0.118864,
                    0.118958,
                    0.11905199999999999,
                    0.119146,
                    0.11924,
                    0.119334,
                    0.11942799999999999,
                    0.11952199999999999,
                    0.119616,
                    0.11971,
                    0.119804,
                    0.119898,
                    0.11999199999999999,
                    0.120086,
                    0.12018,
                    0.12027399999999999,
                    0.120368,
                    0.120462,
                    0.120556,
                    0.12065,
                    0.12074399999999999,
                    0.120838,
                    0.120932,
                    0.121026,
                    0.12112,
                    0.12121399999999999,
                    0.121308,
                    0.121402,
                    0.12149599999999999,
                    0.12159,
                    0.12168399999999999,
                    0.121778,
                    0.12187200000000001,
                    0.12196599999999999,
                    0.12206,
                    0.122154,
                    0.122248,
                    0.122342,
                    0.12243599999999999,
                    0.12253,
                    0.12262400000000001,
                    0.122718,
                    0.122812,
                    0.12290599999999999
                  ],
                  "xaxis": "x",
                  "y": [
                    11.031569880001955,
                    11.122262307188551,
                    11.212624870636319,
                    11.302642770726864,
                    11.392301354177357,
                    11.481586121211786,
                    11.570482732638398,
                    11.658977016829008,
                    11.747054976595114,
                    11.83470279595674,
                    11.921906846799473,
                    12.008653695415488,
                    12.09493010892457,
                    12.180723061570992,
                    12.266019740892906,
                    12.350807553760037,
                    12.435074132276657,
                    12.518807339546099,
                    12.601995275294188,
                    12.684626281347905,
                    12.76668894696689,
                    12.848172114024925,
                    12.929064882038892,
                    13.00935661304279,
                    13.089036936304566,
                    13.16809575288396,
                    13.246523240029115,
                    13.324309855410567,
                    13.40144634119096,
                    13.477923727929024,
                    13.55373333831671,
                    13.628866790748464,
                    13.703316002721696,
                    13.77707319406769,
                    13.850130890012453,
                    13.922481924067135,
                    13.99411944074772,
                    14.065036898123877,
                    14.135228070197067,
                    14.20468704910811,
                    14.273408247174606,
                    14.341386398758546,
                    14.408616561964966,
                    14.47509412017223,
                    14.540814783394882,
                    14.605774589480152,
                    14.669969905139213,
                    14.733397426814387,
                    14.796054181383717,
                    14.857937526704537,
                    14.919045151997276,
                    14.979375078071515,
                    15.038925657395788,
                    15.097695574013354,
                    15.155683843305376,
                    15.212889811603992,
                    15.269313155657034,
                    15.324953881946787,
                    15.379812325864803,
                    15.433889150745186,
                    15.487185346758555,
                    15.53970222966909,
                    15.591441439457068,
                    15.642404938809262,
                    15.692595011479701,
                    15.742014260523256,
                    15.79066560640443,
                    15.838552284984091,
                    15.885677845386326,
                    15.93204614774821,
                    15.977661360854666,
                    16.022527959661275,
                    16.066650722707124,
                    16.110034729420292,
                    16.152685357318475,
                    16.194608279106927,
                    16.235809459676144,
                    16.276295153001723,
                    16.316071898948387,
                    16.355146519980586,
                    16.39352611778183,
                    16.431218069784627,
                    16.46823002561347,
                    16.50456990344238,
                    16.540245886269318,
                    16.57526641810907,
                    16.609640200106526,
                    16.643376186571924,
                    16.67648358093982,
                    16.708971831653255,
                    16.740850627974673,
                    16.772129895724916,
                    16.802819792951635,
                    16.832930705528458,
                    16.862473242685926,
                    16.891458232475397,
                    16.91989671716691,
                    16.947799948581903,
                    16.975179383361642,
                    17.002046678172142,
                    17.028413684846328,
                    17.05429244546398,
                    17.079695187369982,
                    17.10463431813162,
                    17.129122420434904,
                    17.15317224692069,
                    17.17679671496062,
                    17.20000890137322,
                    17.222822037080313,
                    17.245249501703814,
                    17.267304818103074,
                    17.28900164685273,
                    17.310353780661032,
                    17.33137513872867,
                    17.35207976104794,
                    17.372481802642238,
                    17.392595527745613,
                    17.412435303922347,
                    17.4320155961264,
                    17.451350960700445,
                    17.470456039314406,
                    17.489345552843425,
                    17.508034295184874,
                    17.526537127014457,
                    17.54486896948126,
                    17.56304479784161,
                    17.58107963503166,
                    17.598988545178816,
                    17.616786627051834,
                    17.634489007449883,
                    17.652110834530493,
                    17.669667271076765,
                    17.68717348770394,
                    17.704644656005833,
                    17.72209594164137,
                    17.73954249736188,
                    17.756999455979646,
                    17.774481923278387,
                    17.79200497086655,
                    17.809583628974202,
                    17.827232879194565,
                    17.844967647171334,
                    17.862802795232977,
                    17.880753114975402,
                    17.898833319794484,
                    17.917058037370037,
                    17.9354418021031,
                    17.95399904750827,
                    17.972744098563233,
                    17.991691164017773,
                    18.010854328664312,
                    18.030247545572827,
                    18.04988462829245,
                    18.06977924302288,
                    18.089944900758237,
                    18.110394949406725,
                    18.13114256588927,
                    18.152200748220537,
                    18.173582307576027,
                    18.195299860348886,
                    18.21736582020045,
                    18.23979239010846,
                    18.262591554417384,
                    18.285775070895006,
                    18.309354462799973,
                    18.33334101096496,
                    18.357745745900267,
                    18.382579439922853,
                    18.407852599315977,
                    18.433575456524665,
                    18.459757962392445,
                    18.486409778444955,
                    18.51354026922592,
                    18.541158494691516,
                    18.569273202668874,
                    18.597892821384853,
                    18.627025452071077,
                    18.656678861651663,
                    18.68686047551981,
                    18.71757737040972,
                    18.748836267370343,
                    18.780643524847505,
                    18.81300513188109,
                    18.84592670142395,
                    18.879413463789085,
                    18.91347026023238,
                    18.948101536677104,
                    18.983311337587384,
                    19.01910329999748,
                    19.05548064770352,
                    19.09244618562483,
                    19.130002294341423,
                    19.16815092481468,
                    19.20689359329789,
                    19.246231376443415,
                    19.286164906613312,
                    19.326694367399757,
                    19.36781948936214,
                    19.40953954598714,
                    19.451853349878217,
                    19.49475924918078,
                    19.538255124249346,
                    19.58233838456248,
                    19.62700596589178,
                    19.672254327730403,
                    19.718079450986977,
                    19.76447683595026,
                    19.811441500529863,
                    19.858967978778285,
                    19.907050319698996,
                    19.955682086345572,
                    20.00485635521615,
                    20.054565715947714,
                    20.104802271314348,
                    20.155557637533118,
                    20.20682294488141,
                    20.258588838628967,
                    20.310845480288034,
                    20.36358254918401,
                    20.416789244349637,
                    20.470454286744886,
                    20.52456592180458,
                    20.579111922315473,
                    20.634079591624356,
                    20.68945576717833,
                    20.74522682439798,
                    20.801378680884234,
                    20.857896800958972,
                    20.914766200539347,
                    20.97197145234553,
                    21.029496691441008,
                    21.087325621104604,
                    21.14544151903268,
                    21.203827243869842,
                    21.2624652420664,
                    21.32133755505985,
                    21.380425826777934,
                    21.43971131146028,
                    21.499174881795184,
                    21.558797037368006,
                    21.61855791341704,
                    21.67843728989258,
                    21.73841460081478,
                    21.798468943924906,
                    21.858579090625128,
                    21.91872349620103,
                    21.97888031032099,
                    22.039027387806343,
                    22.09914229966548,
                    22.159202344385648,
                    22.2191845594748,
                    22.279065733246387,
                    22.338822416839548,
                    22.398430936466543,
                    22.457867405879302,
                    22.5171077390468,
                    22.576127663034388,
                    22.634902731076263,
                    22.693408335831776,
                    22.751619722816436,
                    22.809512003997696,
                    22.867060171545948,
                    22.92423911173069,
                    22.981023618951546,
                    23.03738840989388,
                    23.09330813779856,
                    23.148757406834875,
                    23.20371078656619,
                    23.258142826497053,
                    23.31202807069075,
                    23.36534107244625,
                    23.418056409023055,
                    23.470148696402628,
                    23.521592604075007,
                    23.57236286983897,
                    23.622434314604323,
                    23.671781857184406,
                    23.72038052906757,
                    23.768205489155537,
                    23.815232038457253,
                    23.861435634726504,
                    23.90679190703152,
                    23.951276670245143,
                    23.99486593944375,
                    24.03753594420374,
                    24.079263142783688,
                    24.120024236181173,
                    24.15979618205277,
                    24.198556208486135,
                    24.236281827613023,
                    24.272950849052304,
                    24.308541393172142,
                    24.34303190416079,
                    24.376401162895263,
                    24.408628299597737,
                    24.43969280626934,
                    24.46957454889155,
                    24.498253779385173,
                    24.525711147317466,
                    24.551927711348103,
                    24.576884950404622,
                    24.600564774578665,
                    24.622949535734282,
                    24.644022037819866,
                    24.663765546875563,
                    24.682163800728343,
                    24.699201018367173,
                    24.71486190899074,
                    24.729131680721032,
                    24.741996048975754,
                    24.753441244493438,
                    24.763454021004748,
                    24.77202166254467,
                    24.77913199039966,
                    24.7847733696849,
                    24.788934715546677,
                    24.79160549898552,
                    24.792775752295793,
                    24.792436074118132,
                    24.790577634101133,
                    24.787192177169207,
                    24.782272027393873,
                    24.775810091466113,
                    24.767799861767674,
                    24.758235419039664,
                    24.747111434647113,
                    24.73442317243857,
                    24.720166490199993,
                    24.70433784070287,
                    24.68693427234652,
                    24.66795342939515,
                    24.647393551810392,
                    24.62525347468059,
                    24.601532627248417,
                    24.576231031538455,
                    24.549349300587423,
                    24.520888636279143,
                    24.490850826787614,
                    24.459238243631123,
                    24.42605383834134,
                    24.391301138751,
                    24.354984244904735,
                    24.317107824597493,
                    24.277677108545557,
                    24.236697885195376,
                    24.19417649517561,
                    24.150119825398633,
                    24.10453530281717,
                    24.05743088784271,
                    24.008815067432685,
                    23.958696847852764,
                    23.90708574712235,
                    23.85399178715008,
                    23.799425485567472,
                    23.743397847268927,
                    23.685920355665797,
                    23.62700496366364,
                    23.566664084370995,
                    23.50491058154868,
                    23.441757759808908,
                    23.377219354573395,
                    23.31130952179993,
                    23.244042827487505,
                    23.17543423696911,
                    23.10549910400313,
                    23.034253159672737,
                    22.96171250110394,
                    22.887893580012737,
                    22.812813191091713,
                    22.736488460246964,
                    22.65893683269579,
                    22.580176060936182,
                    22.50022419259915,
                    22.419099558194276,
                    22.336820758760105,
                    22.25340665343012,
                    22.168876346925344,
                    22.08324917698474,
                    21.99654470174451,
                    21.90878268707722,
                    21.819983093902138,
                    21.73016606547736,
                    21.639351914685196,
                    21.547561111321553,
                    21.454814269399904,
                    21.36113213448146,
                    21.266535571041302,
                    21.17104554988198,
                    21.074683135604484,
                    20.97746947414734,
                    20.879425780404176,
                    20.78057332592962,
                    20.68093342674385,
                    20.580527431245592,
                    20.47937670824312,
                    20.37750263511293,
                    20.27492658609551,
                    20.171669920737042,
                    20.067753972486354,
                    19.963200037455685,
                    19.85802936335366,
                    19.752263138599123,
                    19.645922481623472,
                    19.53902843036957,
                    19.43160193199481,
                    19.323663832785428,
                    19.215234868289397,
                    19.10633565367431,
                    18.996986674317213,
                    18.88720827663204,
                    18.77702065914108,
                    18.66644386379588,
                    18.555497767552698,
                    18.444202074207965,
                    18.332576306498215,
                    18.22063979846873,
                    18.108411688115467,
                    17.995910910303394,
                    17.88315618996525,
                    17.77016603558367,
                    17.656958732959048,
                    17.54355233926639,
                    17.429964677402637,
                    17.31621333062649,
                    17.202315637492386,
                    17.088288687079356,
                    16.974149314516097,
                    16.859914096802232,
                    16.745599348926316,
                    16.63122112028032,
                    16.516795191369766,
                    16.402337070819282,
                    16.287861992672074,
                    16.173384913981728,
                    16.058920512695146,
                    15.944483185823817,
                    15.830087047901735,
                    15.715745929726781,
                    15.601473377382863,
                    15.487282651539465,
                    15.373186727025244,
                    15.259198292671426,
                    15.145329751421484,
                    15.031593220702332,
                    14.918000533052474,
                    14.804563237002538,
                    14.691292598202715,
                    14.57819960079215,
                    14.465294949004234,
                    14.352589069002603,
                    14.240092110941513,
                    14.127813951244331,
                    14.015764195094173,
                    13.903952179129615,
                    13.7923869743393,
                    13.681077389148115,
                    13.570031972688085,
                    13.459259018246934,
                    13.34876656688685,
                    13.238562411225953,
                    13.128654099375233,
                    13.019048939023094,
                    12.909754001659765,
                    12.800776126934,
                    12.692121927133998,
                    12.58379779178485,
                    12.475809892354128,
                    12.368164187058223,
                    12.26086642576106,
                    12.153922154956922,
                    12.04733672283013,
                    11.941115284382649,
                    11.835262806622387,
                    11.729784073803696,
                    11.624683692712415,
                    11.519966097987524,
                    11.415635557471706,
                    11.311696177582725,
                    11.208151908698488,
                    11.105006550547794,
                    11.002263757599454,
                    10.89992704444259,
                    10.797999791150469,
                    10.696485248621409,
                    10.59538654388899,
                    10.494706685395407,
                    10.394448568221037,
                    10.294614979263558,
                    10.195208602360676,
                    10.096232023349707,
                    9.997687735058646,
                    9.899578142222582,
                    9.80190556631971,
                    9.704672250321916,
                    9.60788036335448,
                    9.511532005259875,
                    9.41562921106117,
                    9.320173955319941,
                    9.225168156384953,
                    9.130613680527203
                  ],
                  "yaxis": "y"
                }
              ],
              "layout": {
                "barmode": "overlay",
                "font": {
                  "color": "black",
                  "family": "Arial",
                  "size": 12
                },
                "hovermode": "closest",
                "legend": {
                  "traceorder": "reversed"
                },
                "template": {
                  "data": {
                    "bar": [
                      {
                        "error_x": {
                          "color": "rgb(36,36,36)"
                        },
                        "error_y": {
                          "color": "rgb(36,36,36)"
                        },
                        "marker": {
                          "line": {
                            "color": "white",
                            "width": 0.5
                          },
                          "pattern": {
                            "fillmode": "overlay",
                            "size": 10,
                            "solidity": 0.2
                          }
                        },
                        "type": "bar"
                      }
                    ],
                    "barpolar": [
                      {
                        "marker": {
                          "line": {
                            "color": "white",
                            "width": 0.5
                          },
                          "pattern": {
                            "fillmode": "overlay",
                            "size": 10,
                            "solidity": 0.2
                          }
                        },
                        "type": "barpolar"
                      }
                    ],
                    "carpet": [
                      {
                        "aaxis": {
                          "endlinecolor": "rgb(36,36,36)",
                          "gridcolor": "white",
                          "linecolor": "white",
                          "minorgridcolor": "white",
                          "startlinecolor": "rgb(36,36,36)"
                        },
                        "baxis": {
                          "endlinecolor": "rgb(36,36,36)",
                          "gridcolor": "white",
                          "linecolor": "white",
                          "minorgridcolor": "white",
                          "startlinecolor": "rgb(36,36,36)"
                        },
                        "type": "carpet"
                      }
                    ],
                    "choropleth": [
                      {
                        "colorbar": {
                          "outlinewidth": 1,
                          "tickcolor": "rgb(36,36,36)",
                          "ticks": "outside"
                        },
                        "type": "choropleth"
                      }
                    ],
                    "contour": [
                      {
                        "colorbar": {
                          "outlinewidth": 1,
                          "tickcolor": "rgb(36,36,36)",
                          "ticks": "outside"
                        },
                        "colorscale": [
                          [
                            0,
                            "#440154"
                          ],
                          [
                            0.1111111111111111,
                            "#482878"
                          ],
                          [
                            0.2222222222222222,
                            "#3e4989"
                          ],
                          [
                            0.3333333333333333,
                            "#31688e"
                          ],
                          [
                            0.4444444444444444,
                            "#26828e"
                          ],
                          [
                            0.5555555555555556,
                            "#1f9e89"
                          ],
                          [
                            0.6666666666666666,
                            "#35b779"
                          ],
                          [
                            0.7777777777777778,
                            "#6ece58"
                          ],
                          [
                            0.8888888888888888,
                            "#b5de2b"
                          ],
                          [
                            1,
                            "#fde725"
                          ]
                        ],
                        "type": "contour"
                      }
                    ],
                    "contourcarpet": [
                      {
                        "colorbar": {
                          "outlinewidth": 1,
                          "tickcolor": "rgb(36,36,36)",
                          "ticks": "outside"
                        },
                        "type": "contourcarpet"
                      }
                    ],
                    "heatmap": [
                      {
                        "colorbar": {
                          "outlinewidth": 1,
                          "tickcolor": "rgb(36,36,36)",
                          "ticks": "outside"
                        },
                        "colorscale": [
                          [
                            0,
                            "#440154"
                          ],
                          [
                            0.1111111111111111,
                            "#482878"
                          ],
                          [
                            0.2222222222222222,
                            "#3e4989"
                          ],
                          [
                            0.3333333333333333,
                            "#31688e"
                          ],
                          [
                            0.4444444444444444,
                            "#26828e"
                          ],
                          [
                            0.5555555555555556,
                            "#1f9e89"
                          ],
                          [
                            0.6666666666666666,
                            "#35b779"
                          ],
                          [
                            0.7777777777777778,
                            "#6ece58"
                          ],
                          [
                            0.8888888888888888,
                            "#b5de2b"
                          ],
                          [
                            1,
                            "#fde725"
                          ]
                        ],
                        "type": "heatmap"
                      }
                    ],
                    "heatmapgl": [
                      {
                        "colorbar": {
                          "outlinewidth": 1,
                          "tickcolor": "rgb(36,36,36)",
                          "ticks": "outside"
                        },
                        "colorscale": [
                          [
                            0,
                            "#440154"
                          ],
                          [
                            0.1111111111111111,
                            "#482878"
                          ],
                          [
                            0.2222222222222222,
                            "#3e4989"
                          ],
                          [
                            0.3333333333333333,
                            "#31688e"
                          ],
                          [
                            0.4444444444444444,
                            "#26828e"
                          ],
                          [
                            0.5555555555555556,
                            "#1f9e89"
                          ],
                          [
                            0.6666666666666666,
                            "#35b779"
                          ],
                          [
                            0.7777777777777778,
                            "#6ece58"
                          ],
                          [
                            0.8888888888888888,
                            "#b5de2b"
                          ],
                          [
                            1,
                            "#fde725"
                          ]
                        ],
                        "type": "heatmapgl"
                      }
                    ],
                    "histogram": [
                      {
                        "marker": {
                          "line": {
                            "color": "white",
                            "width": 0.6
                          }
                        },
                        "type": "histogram"
                      }
                    ],
                    "histogram2d": [
                      {
                        "colorbar": {
                          "outlinewidth": 1,
                          "tickcolor": "rgb(36,36,36)",
                          "ticks": "outside"
                        },
                        "colorscale": [
                          [
                            0,
                            "#440154"
                          ],
                          [
                            0.1111111111111111,
                            "#482878"
                          ],
                          [
                            0.2222222222222222,
                            "#3e4989"
                          ],
                          [
                            0.3333333333333333,
                            "#31688e"
                          ],
                          [
                            0.4444444444444444,
                            "#26828e"
                          ],
                          [
                            0.5555555555555556,
                            "#1f9e89"
                          ],
                          [
                            0.6666666666666666,
                            "#35b779"
                          ],
                          [
                            0.7777777777777778,
                            "#6ece58"
                          ],
                          [
                            0.8888888888888888,
                            "#b5de2b"
                          ],
                          [
                            1,
                            "#fde725"
                          ]
                        ],
                        "type": "histogram2d"
                      }
                    ],
                    "histogram2dcontour": [
                      {
                        "colorbar": {
                          "outlinewidth": 1,
                          "tickcolor": "rgb(36,36,36)",
                          "ticks": "outside"
                        },
                        "colorscale": [
                          [
                            0,
                            "#440154"
                          ],
                          [
                            0.1111111111111111,
                            "#482878"
                          ],
                          [
                            0.2222222222222222,
                            "#3e4989"
                          ],
                          [
                            0.3333333333333333,
                            "#31688e"
                          ],
                          [
                            0.4444444444444444,
                            "#26828e"
                          ],
                          [
                            0.5555555555555556,
                            "#1f9e89"
                          ],
                          [
                            0.6666666666666666,
                            "#35b779"
                          ],
                          [
                            0.7777777777777778,
                            "#6ece58"
                          ],
                          [
                            0.8888888888888888,
                            "#b5de2b"
                          ],
                          [
                            1,
                            "#fde725"
                          ]
                        ],
                        "type": "histogram2dcontour"
                      }
                    ],
                    "mesh3d": [
                      {
                        "colorbar": {
                          "outlinewidth": 1,
                          "tickcolor": "rgb(36,36,36)",
                          "ticks": "outside"
                        },
                        "type": "mesh3d"
                      }
                    ],
                    "parcoords": [
                      {
                        "line": {
                          "colorbar": {
                            "outlinewidth": 1,
                            "tickcolor": "rgb(36,36,36)",
                            "ticks": "outside"
                          }
                        },
                        "type": "parcoords"
                      }
                    ],
                    "pie": [
                      {
                        "automargin": true,
                        "type": "pie"
                      }
                    ],
                    "scatter": [
                      {
                        "marker": {
                          "colorbar": {
                            "outlinewidth": 1,
                            "tickcolor": "rgb(36,36,36)",
                            "ticks": "outside"
                          }
                        },
                        "type": "scatter"
                      }
                    ],
                    "scatter3d": [
                      {
                        "line": {
                          "colorbar": {
                            "outlinewidth": 1,
                            "tickcolor": "rgb(36,36,36)",
                            "ticks": "outside"
                          }
                        },
                        "marker": {
                          "colorbar": {
                            "outlinewidth": 1,
                            "tickcolor": "rgb(36,36,36)",
                            "ticks": "outside"
                          }
                        },
                        "type": "scatter3d"
                      }
                    ],
                    "scattercarpet": [
                      {
                        "marker": {
                          "colorbar": {
                            "outlinewidth": 1,
                            "tickcolor": "rgb(36,36,36)",
                            "ticks": "outside"
                          }
                        },
                        "type": "scattercarpet"
                      }
                    ],
                    "scattergeo": [
                      {
                        "marker": {
                          "colorbar": {
                            "outlinewidth": 1,
                            "tickcolor": "rgb(36,36,36)",
                            "ticks": "outside"
                          }
                        },
                        "type": "scattergeo"
                      }
                    ],
                    "scattergl": [
                      {
                        "marker": {
                          "colorbar": {
                            "outlinewidth": 1,
                            "tickcolor": "rgb(36,36,36)",
                            "ticks": "outside"
                          }
                        },
                        "type": "scattergl"
                      }
                    ],
                    "scattermapbox": [
                      {
                        "marker": {
                          "colorbar": {
                            "outlinewidth": 1,
                            "tickcolor": "rgb(36,36,36)",
                            "ticks": "outside"
                          }
                        },
                        "type": "scattermapbox"
                      }
                    ],
                    "scatterpolar": [
                      {
                        "marker": {
                          "colorbar": {
                            "outlinewidth": 1,
                            "tickcolor": "rgb(36,36,36)",
                            "ticks": "outside"
                          }
                        },
                        "type": "scatterpolar"
                      }
                    ],
                    "scatterpolargl": [
                      {
                        "marker": {
                          "colorbar": {
                            "outlinewidth": 1,
                            "tickcolor": "rgb(36,36,36)",
                            "ticks": "outside"
                          }
                        },
                        "type": "scatterpolargl"
                      }
                    ],
                    "scatterternary": [
                      {
                        "marker": {
                          "colorbar": {
                            "outlinewidth": 1,
                            "tickcolor": "rgb(36,36,36)",
                            "ticks": "outside"
                          }
                        },
                        "type": "scatterternary"
                      }
                    ],
                    "surface": [
                      {
                        "colorbar": {
                          "outlinewidth": 1,
                          "tickcolor": "rgb(36,36,36)",
                          "ticks": "outside"
                        },
                        "colorscale": [
                          [
                            0,
                            "#440154"
                          ],
                          [
                            0.1111111111111111,
                            "#482878"
                          ],
                          [
                            0.2222222222222222,
                            "#3e4989"
                          ],
                          [
                            0.3333333333333333,
                            "#31688e"
                          ],
                          [
                            0.4444444444444444,
                            "#26828e"
                          ],
                          [
                            0.5555555555555556,
                            "#1f9e89"
                          ],
                          [
                            0.6666666666666666,
                            "#35b779"
                          ],
                          [
                            0.7777777777777778,
                            "#6ece58"
                          ],
                          [
                            0.8888888888888888,
                            "#b5de2b"
                          ],
                          [
                            1,
                            "#fde725"
                          ]
                        ],
                        "type": "surface"
                      }
                    ],
                    "table": [
                      {
                        "cells": {
                          "fill": {
                            "color": "rgb(237,237,237)"
                          },
                          "line": {
                            "color": "white"
                          }
                        },
                        "header": {
                          "fill": {
                            "color": "rgb(217,217,217)"
                          },
                          "line": {
                            "color": "white"
                          }
                        },
                        "type": "table"
                      }
                    ]
                  },
                  "layout": {
                    "annotationdefaults": {
                      "arrowhead": 0,
                      "arrowwidth": 1
                    },
                    "autotypenumbers": "strict",
                    "coloraxis": {
                      "colorbar": {
                        "outlinewidth": 1,
                        "tickcolor": "rgb(36,36,36)",
                        "ticks": "outside"
                      }
                    },
                    "colorscale": {
                      "diverging": [
                        [
                          0,
                          "rgb(103,0,31)"
                        ],
                        [
                          0.1,
                          "rgb(178,24,43)"
                        ],
                        [
                          0.2,
                          "rgb(214,96,77)"
                        ],
                        [
                          0.3,
                          "rgb(244,165,130)"
                        ],
                        [
                          0.4,
                          "rgb(253,219,199)"
                        ],
                        [
                          0.5,
                          "rgb(247,247,247)"
                        ],
                        [
                          0.6,
                          "rgb(209,229,240)"
                        ],
                        [
                          0.7,
                          "rgb(146,197,222)"
                        ],
                        [
                          0.8,
                          "rgb(67,147,195)"
                        ],
                        [
                          0.9,
                          "rgb(33,102,172)"
                        ],
                        [
                          1,
                          "rgb(5,48,97)"
                        ]
                      ],
                      "sequential": [
                        [
                          0,
                          "#440154"
                        ],
                        [
                          0.1111111111111111,
                          "#482878"
                        ],
                        [
                          0.2222222222222222,
                          "#3e4989"
                        ],
                        [
                          0.3333333333333333,
                          "#31688e"
                        ],
                        [
                          0.4444444444444444,
                          "#26828e"
                        ],
                        [
                          0.5555555555555556,
                          "#1f9e89"
                        ],
                        [
                          0.6666666666666666,
                          "#35b779"
                        ],
                        [
                          0.7777777777777778,
                          "#6ece58"
                        ],
                        [
                          0.8888888888888888,
                          "#b5de2b"
                        ],
                        [
                          1,
                          "#fde725"
                        ]
                      ],
                      "sequentialminus": [
                        [
                          0,
                          "#440154"
                        ],
                        [
                          0.1111111111111111,
                          "#482878"
                        ],
                        [
                          0.2222222222222222,
                          "#3e4989"
                        ],
                        [
                          0.3333333333333333,
                          "#31688e"
                        ],
                        [
                          0.4444444444444444,
                          "#26828e"
                        ],
                        [
                          0.5555555555555556,
                          "#1f9e89"
                        ],
                        [
                          0.6666666666666666,
                          "#35b779"
                        ],
                        [
                          0.7777777777777778,
                          "#6ece58"
                        ],
                        [
                          0.8888888888888888,
                          "#b5de2b"
                        ],
                        [
                          1,
                          "#fde725"
                        ]
                      ]
                    },
                    "colorway": [
                      "#1F77B4",
                      "#FF7F0E",
                      "#2CA02C",
                      "#D62728",
                      "#9467BD",
                      "#8C564B",
                      "#E377C2",
                      "#7F7F7F",
                      "#BCBD22",
                      "#17BECF"
                    ],
                    "font": {
                      "color": "rgb(36,36,36)"
                    },
                    "geo": {
                      "bgcolor": "white",
                      "lakecolor": "white",
                      "landcolor": "white",
                      "showlakes": true,
                      "showland": true,
                      "subunitcolor": "white"
                    },
                    "hoverlabel": {
                      "align": "left"
                    },
                    "hovermode": "closest",
                    "mapbox": {
                      "style": "light"
                    },
                    "paper_bgcolor": "white",
                    "plot_bgcolor": "white",
                    "polar": {
                      "angularaxis": {
                        "gridcolor": "rgb(232,232,232)",
                        "linecolor": "rgb(36,36,36)",
                        "showgrid": false,
                        "showline": true,
                        "ticks": "outside"
                      },
                      "bgcolor": "white",
                      "radialaxis": {
                        "gridcolor": "rgb(232,232,232)",
                        "linecolor": "rgb(36,36,36)",
                        "showgrid": false,
                        "showline": true,
                        "ticks": "outside"
                      }
                    },
                    "scene": {
                      "xaxis": {
                        "backgroundcolor": "white",
                        "gridcolor": "rgb(232,232,232)",
                        "gridwidth": 2,
                        "linecolor": "rgb(36,36,36)",
                        "showbackground": true,
                        "showgrid": false,
                        "showline": true,
                        "ticks": "outside",
                        "zeroline": false,
                        "zerolinecolor": "rgb(36,36,36)"
                      },
                      "yaxis": {
                        "backgroundcolor": "white",
                        "gridcolor": "rgb(232,232,232)",
                        "gridwidth": 2,
                        "linecolor": "rgb(36,36,36)",
                        "showbackground": true,
                        "showgrid": false,
                        "showline": true,
                        "ticks": "outside",
                        "zeroline": false,
                        "zerolinecolor": "rgb(36,36,36)"
                      },
                      "zaxis": {
                        "backgroundcolor": "white",
                        "gridcolor": "rgb(232,232,232)",
                        "gridwidth": 2,
                        "linecolor": "rgb(36,36,36)",
                        "showbackground": true,
                        "showgrid": false,
                        "showline": true,
                        "ticks": "outside",
                        "zeroline": false,
                        "zerolinecolor": "rgb(36,36,36)"
                      }
                    },
                    "shapedefaults": {
                      "fillcolor": "black",
                      "line": {
                        "width": 0
                      },
                      "opacity": 0.3
                    },
                    "ternary": {
                      "aaxis": {
                        "gridcolor": "rgb(232,232,232)",
                        "linecolor": "rgb(36,36,36)",
                        "showgrid": false,
                        "showline": true,
                        "ticks": "outside"
                      },
                      "baxis": {
                        "gridcolor": "rgb(232,232,232)",
                        "linecolor": "rgb(36,36,36)",
                        "showgrid": false,
                        "showline": true,
                        "ticks": "outside"
                      },
                      "bgcolor": "white",
                      "caxis": {
                        "gridcolor": "rgb(232,232,232)",
                        "linecolor": "rgb(36,36,36)",
                        "showgrid": false,
                        "showline": true,
                        "ticks": "outside"
                      }
                    },
                    "title": {
                      "x": 0.05
                    },
                    "xaxis": {
                      "automargin": true,
                      "gridcolor": "rgb(232,232,232)",
                      "linecolor": "rgb(36,36,36)",
                      "showgrid": false,
                      "showline": true,
                      "ticks": "outside",
                      "title": {
                        "standoff": 15
                      },
                      "zeroline": false,
                      "zerolinecolor": "rgb(36,36,36)"
                    },
                    "yaxis": {
                      "automargin": true,
                      "gridcolor": "rgb(232,232,232)",
                      "linecolor": "rgb(36,36,36)",
                      "showgrid": false,
                      "showline": true,
                      "ticks": "outside",
                      "title": {
                        "standoff": 15
                      },
                      "zeroline": false,
                      "zerolinecolor": "rgb(36,36,36)"
                    }
                  }
                },
                "title": {
                  "text": "Distribution Of Ozone"
                },
                "xaxis": {
                  "anchor": "y2",
                  "domain": [
                    0,
                    1
                  ],
                  "zeroline": false
                },
                "yaxis": {
                  "anchor": "free",
                  "domain": [
                    0,
                    1
                  ],
                  "position": 0
                }
              }
            }
          },
          "metadata": {},
          "output_type": "display_data"
        }
      ],
      "source": [
        "# Create distplot with curve_type set to 'normal'\n",
        "fig_10 = ff.create_distplot([sample], \n",
        "                         ['90th Percentile'], \n",
        "                         colors=['salmon'],\n",
        "                         bin_size=.1, \n",
        "                         show_rug=False)\n",
        "\n",
        "# Add title\n",
        "fig_10.update_layout(title_text='Distribution Of Ozone', \n",
        "                     template='simple_white',\n",
        "                     font=dict(family='Arial', size=12, color='black'))\n",
        "fig_10.show()"
      ]
    },
    {
      "cell_type": "markdown",
      "metadata": {
        "id": "UOzjBWHlLlCO"
      },
      "source": [
        "#### **Conclusion**\n",
        "\n",
        "1) Hence, I failed to reject the null hypothesis and I conclude that there is no difference between Ozone of highs and Ozone of lows.\n",
        "\n",
        "2) For hypothesis testing  considered data of insurance price based on different health parameter.\n",
        "\n",
        "3) I formulated a hypothesis, but based on the observation (P and alpha), the hypothesis failed and the it was observed that there is no difference between Ozone of highs and Lows."
      ]
    }
  ],
  "metadata": {
    "colab": {
      "name": "Ds_expt4.ipynb",
      "provenance": []
    },
    "kernelspec": {
      "display_name": "Python 3",
      "name": "python3"
    },
    "language_info": {
      "codemirror_mode": {
        "name": "ipython",
        "version": 3
      },
      "file_extension": ".py",
      "mimetype": "text/x-python",
      "name": "python",
      "nbconvert_exporter": "python",
      "pygments_lexer": "ipython3",
      "version": "3.9.5"
    }
  },
  "nbformat": 4,
  "nbformat_minor": 0
}
